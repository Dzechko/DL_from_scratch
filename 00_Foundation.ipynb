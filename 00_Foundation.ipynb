{
  "nbformat": 4,
  "nbformat_minor": 0,
  "metadata": {
    "colab": {
      "provenance": [],
      "gpuType": "T4",
      "authorship_tag": "ABX9TyOlTp20Oc50hXs+S4+SvQHq",
      "include_colab_link": true
    },
    "kernelspec": {
      "name": "python3",
      "display_name": "Python 3"
    },
    "language_info": {
      "name": "python"
    },
    "accelerator": "GPU"
  },
  "cells": [
    {
      "cell_type": "markdown",
      "metadata": {
        "id": "view-in-github",
        "colab_type": "text"
      },
      "source": [
        "<a href=\"https://colab.research.google.com/github/Dzechko/DL_from_scratch/blob/main/00_Foundation.ipynb\" target=\"_parent\"><img src=\"https://colab.research.google.com/assets/colab-badge.svg\" alt=\"Open In Colab\"/></a>"
      ]
    },
    {
      "cell_type": "markdown",
      "source": [
        "Difference between python list operation and numpy array operation"
      ],
      "metadata": {
        "id": "f3D_xIAt9k3u"
      }
    },
    {
      "cell_type": "code",
      "execution_count": 1,
      "metadata": {
        "colab": {
          "base_uri": "https://localhost:8080/"
        },
        "id": "HzqvMNcu9iyh",
        "outputId": "a1014e7e-d7f8-463b-dd2b-c9bf0f1e861a"
      },
      "outputs": [
        {
          "output_type": "stream",
          "name": "stdout",
          "text": [
            "[1, 2, 3, 3, 4, 5]\n"
          ]
        }
      ],
      "source": [
        "ls1 = [1,2,3]\n",
        "ls2 = [3,4,5]\n",
        "print(ls1+ls2)\n",
        "#print(ls1*ls2)\n",
        "#cant multiply two lists"
      ]
    },
    {
      "cell_type": "code",
      "source": [
        "import numpy as np\n",
        "np1 = np.array([3,4,5])\n",
        "np2 = np.array([4,5,6])\n",
        "print(np1+np2)\n",
        "print(np1*np2)\n"
      ],
      "metadata": {
        "colab": {
          "base_uri": "https://localhost:8080/"
        },
        "id": "6kyK3f_p9_zy",
        "outputId": "9a37836c-2731-4641-a562-532eb4ae90c3"
      },
      "execution_count": 2,
      "outputs": [
        {
          "output_type": "stream",
          "name": "stdout",
          "text": [
            "[ 7  9 11]\n",
            "[12 20 30]\n"
          ]
        }
      ]
    },
    {
      "cell_type": "code",
      "source": [
        "a= np.array([[1,2],[3,4]])\n",
        "print(a)\n",
        "print(a.sum(axis=0))\n",
        "print(a.sum(axis=1))"
      ],
      "metadata": {
        "colab": {
          "base_uri": "https://localhost:8080/"
        },
        "id": "yoHZdMY0-sv-",
        "outputId": "4df55696-9176-43ca-bd9a-689b6c891a4d"
      },
      "execution_count": 3,
      "outputs": [
        {
          "output_type": "stream",
          "name": "stdout",
          "text": [
            "[[1 2]\n",
            " [3 4]]\n",
            "[4 6]\n",
            "[3 7]\n"
          ]
        }
      ]
    },
    {
      "cell_type": "code",
      "source": [
        "a= np.array([[1,2],[3,4]])\n",
        "b= np.array([7,8])\n",
        "print(a+b)"
      ],
      "metadata": {
        "colab": {
          "base_uri": "https://localhost:8080/"
        },
        "id": "PWG8s10E_CeA",
        "outputId": "c90a15f9-a5f7-4a02-ae0c-bc3d8b22d8b6"
      },
      "execution_count": 4,
      "outputs": [
        {
          "output_type": "stream",
          "name": "stdout",
          "text": [
            "[[ 8 10]\n",
            " [10 12]]\n"
          ]
        }
      ]
    },
    {
      "cell_type": "markdown",
      "source": [
        "AN EXAMPLE OF CALLABLE"
      ],
      "metadata": {
        "id": "9TXBx8GFFvFa"
      }
    },
    {
      "cell_type": "code",
      "source": [
        "from typing import Callable\n",
        "\n",
        "def apply_func(func: Callable[[int],int], x:int)->int:\n",
        "  return func(x)\n",
        "\n",
        "def square(x:int)->int:\n",
        "  return x*x\n",
        "\n",
        "print(apply_func(square,5))\n"
      ],
      "metadata": {
        "colab": {
          "base_uri": "https://localhost:8080/"
        },
        "id": "gWfUfoXU_8Vg",
        "outputId": "172bc7bc-978b-4597-b775-d2bb5e42c097"
      },
      "execution_count": 5,
      "outputs": [
        {
          "output_type": "stream",
          "name": "stdout",
          "text": [
            "25\n"
          ]
        }
      ]
    },
    {
      "cell_type": "markdown",
      "source": [
        "DERIVATIVE FUNCTION USING CALLABLE"
      ],
      "metadata": {
        "id": "IRfMoA9yF0M_"
      }
    },
    {
      "cell_type": "code",
      "source": [
        "import numpy as np\n",
        "from typing import Callable\n",
        "\n",
        "ndarray = np.array\n",
        "\n",
        "def deriv(func: Callable[[ndarray],ndarray],\n",
        "          input_:ndarray,\n",
        "          delta: float=0.001)->ndarray:\n",
        "\n",
        "          return (func(input_+delta)-func(input_-delta))/(2*delta)\n",
        "\n"
      ],
      "metadata": {
        "id": "xTMk_z1vE1Ip"
      },
      "execution_count": 6,
      "outputs": []
    },
    {
      "cell_type": "markdown",
      "source": [
        "NESTED FUNCTIONS"
      ],
      "metadata": {
        "id": "O9mGsiRlHkVK"
      }
    },
    {
      "cell_type": "code",
      "source": [
        "from typing import List, Callable\n",
        "import numpy as np\n",
        "\n",
        "array_function = Callable[[np.ndarray], np.ndarray]\n",
        "Chain = List[array_function]\n",
        "\n",
        "def chain_length_2(chain: Chain, a: np.ndarray) -> np.ndarray:\n",
        "    assert len(chain) == 2, \"Chain length must be 2\"\n",
        "    f1 = chain[0]\n",
        "    f2 = chain[1]\n",
        "    return f1(f2(a))\n"
      ],
      "metadata": {
        "id": "NndFp8HPHiaD"
      },
      "execution_count": 7,
      "outputs": []
    },
    {
      "cell_type": "code",
      "source": [
        "import numpy as np\n",
        "ndarray = np.array\n",
        "def sigmoid(x:ndarray)->ndarray:\n",
        "  return 1/(1+ np.exp(-x))\n"
      ],
      "metadata": {
        "id": "fTCxMOyMA9IU"
      },
      "execution_count": 8,
      "outputs": []
    },
    {
      "cell_type": "code",
      "source": [
        "def multiple_inputs_add(x:ndarray,\n",
        "                        y:ndarray,\n",
        "                        sigma:array_function)->ndarray:\n",
        "\n",
        "                        assert x.shape==y.shape\n",
        "\n",
        "                        a = x + y\n",
        "                        return sigma(a)\n",
        "\n"
      ],
      "metadata": {
        "id": "JHQV5TwsBUZu"
      },
      "execution_count": 9,
      "outputs": []
    },
    {
      "cell_type": "code",
      "source": [
        "a =  np.arange(1,5,1)\n",
        "b = np.arange(2,10,2)\n",
        "print(a)\n",
        "print(b)"
      ],
      "metadata": {
        "colab": {
          "base_uri": "https://localhost:8080/"
        },
        "id": "U-MwI_eykOJ1",
        "outputId": "c17ff07f-3950-4718-db1d-ebd14af9dd1e"
      },
      "execution_count": 10,
      "outputs": [
        {
          "output_type": "stream",
          "name": "stdout",
          "text": [
            "[1 2 3 4]\n",
            "[2 4 6 8]\n"
          ]
        }
      ]
    },
    {
      "cell_type": "code",
      "source": [
        "multiple_inputs_add(a,b,square)"
      ],
      "metadata": {
        "colab": {
          "base_uri": "https://localhost:8080/"
        },
        "id": "8s7y8--Klcch",
        "outputId": "8df4c4d1-d03e-4c72-ddaa-fb71da438b41"
      },
      "execution_count": 11,
      "outputs": [
        {
          "output_type": "execute_result",
          "data": {
            "text/plain": [
              "array([  9,  36,  81, 144])"
            ]
          },
          "metadata": {},
          "execution_count": 11
        }
      ]
    },
    {
      "cell_type": "code",
      "source": [
        "def multiple_input_add_backward(x:ndarray,\n",
        "                                y:ndarray,\n",
        "                                sigma:array_function)->float:\n",
        "\n",
        "                              a = x+y\n",
        "                              dsda = deriv(sigma,a)\n",
        "                              dadx = 1\n",
        "                              dadx = 1\n",
        "                              return dsda*dadx,dsda*dadx\n",
        "\n",
        "\n"
      ],
      "metadata": {
        "id": "zFOsM2wElxeP"
      },
      "execution_count": 12,
      "outputs": []
    },
    {
      "cell_type": "code",
      "source": [
        "p = np.array([2,4,7])\n",
        "q = np.array([5,7,1])\n",
        "multiple_input_add_backward(p,q,square)"
      ],
      "metadata": {
        "colab": {
          "base_uri": "https://localhost:8080/"
        },
        "id": "ie83XnXdAzdo",
        "outputId": "0f62e021-e907-427a-d2c9-d8d302dca956"
      },
      "execution_count": 13,
      "outputs": [
        {
          "output_type": "execute_result",
          "data": {
            "text/plain": [
              "(array([14., 22., 16.]), array([14., 22., 16.]))"
            ]
          },
          "metadata": {},
          "execution_count": 13
        }
      ]
    },
    {
      "cell_type": "code",
      "source": [
        "def multiple_input_mul_backward(x:ndarray,\n",
        "                                y:ndarray,\n",
        "                                sigma:array_function)->float:\n",
        "\n",
        "                                a = x*y\n",
        "                                dsda = deriv(sigma,a)\n",
        "                                dadx = y\n",
        "                                dady = x\n",
        "                                return dsda*dadx,dsda*dady\n"
      ],
      "metadata": {
        "id": "6tAgP4NjA6d8"
      },
      "execution_count": 14,
      "outputs": []
    },
    {
      "cell_type": "code",
      "source": [
        "multiple_input_mul_backward(p,q,square)"
      ],
      "metadata": {
        "colab": {
          "base_uri": "https://localhost:8080/"
        },
        "id": "YsXdLYjECAwy",
        "outputId": "be306a52-614d-4160-99fd-bc3b326bf1d4"
      },
      "execution_count": 15,
      "outputs": [
        {
          "output_type": "execute_result",
          "data": {
            "text/plain": [
              "(array([100., 392.,  14.]), array([ 40., 224.,  98.]))"
            ]
          },
          "metadata": {},
          "execution_count": 15
        }
      ]
    },
    {
      "cell_type": "markdown",
      "source": [
        "functions with multiple vector inputs"
      ],
      "metadata": {
        "id": "WJ-x19LQRr8Q"
      }
    },
    {
      "cell_type": "code",
      "source": [
        "d = ndarray([[1,2,3],\n",
        "             [3,4,5]])\n",
        "e = ndarray([[8,9,1],\n",
        "             [2,7,5]])\n",
        "#no of rows\n",
        "d.shape[0]\n",
        "#no of colums\n",
        "d.shape[1]\n",
        "d.shape"
      ],
      "metadata": {
        "colab": {
          "base_uri": "https://localhost:8080/"
        },
        "id": "dM6v5oQbCGcq",
        "outputId": "fa8e3b40-892b-4c68-80b6-2851802d9073"
      },
      "execution_count": 16,
      "outputs": [
        {
          "output_type": "execute_result",
          "data": {
            "text/plain": [
              "(2, 3)"
            ]
          },
          "metadata": {},
          "execution_count": 16
        }
      ]
    },
    {
      "cell_type": "code",
      "source": [
        "def matmul_forward(X:ndarray,\n",
        "                   W:ndarray)->ndarray:\n",
        "\n",
        "                   assert X.shape[1] == W.shape[0]\n",
        "\n",
        "                   N = np.dot(X,W)\n",
        "\n",
        "                   return N\n"
      ],
      "metadata": {
        "id": "gYxczlzFSt4W"
      },
      "execution_count": 17,
      "outputs": []
    },
    {
      "cell_type": "code",
      "source": [
        "G = np.array([[1,2,3,4]])\n",
        "E = np.array([[1],\n",
        "             [2],\n",
        "             [3],\n",
        "             [4]])\n",
        "E.shape,G.shape"
      ],
      "metadata": {
        "colab": {
          "base_uri": "https://localhost:8080/"
        },
        "id": "vfCROOEcVPiT",
        "outputId": "88fd1762-6725-4bf7-d394-312d0dc1b99b"
      },
      "execution_count": 18,
      "outputs": [
        {
          "output_type": "execute_result",
          "data": {
            "text/plain": [
              "((4, 1), (1, 4))"
            ]
          },
          "metadata": {},
          "execution_count": 18
        }
      ]
    },
    {
      "cell_type": "code",
      "source": [
        "matmul_forward(G,E)"
      ],
      "metadata": {
        "colab": {
          "base_uri": "https://localhost:8080/"
        },
        "id": "sc82lXa9VTF9",
        "outputId": "b9814780-2899-4e13-9a2d-2e8d08230f2d"
      },
      "execution_count": 19,
      "outputs": [
        {
          "output_type": "execute_result",
          "data": {
            "text/plain": [
              "array([[30]])"
            ]
          },
          "metadata": {},
          "execution_count": 19
        }
      ]
    },
    {
      "cell_type": "code",
      "source": [
        "def matmul_backward_first(X:ndarray,\n",
        "                          W:ndarray)->ndarray:\n",
        "\n",
        "          dndx = np.transpose(W,(1,0))\n",
        "          dndw = np.transpose(X,(1,0))\n",
        "\n",
        "          return dndx,dndw\n"
      ],
      "metadata": {
        "id": "w9Y56angCsXL"
      },
      "execution_count": 20,
      "outputs": []
    },
    {
      "cell_type": "code",
      "source": [
        "matmul_backward_first(G,E)"
      ],
      "metadata": {
        "id": "vyVVh0u2C7QW",
        "colab": {
          "base_uri": "https://localhost:8080/"
        },
        "outputId": "7a569eb6-10cf-4bb6-90fd-86da93ff75ca"
      },
      "execution_count": 21,
      "outputs": [
        {
          "output_type": "execute_result",
          "data": {
            "text/plain": [
              "(array([[1, 2, 3, 4]]),\n",
              " array([[1],\n",
              "        [2],\n",
              "        [3],\n",
              "        [4]]))"
            ]
          },
          "metadata": {},
          "execution_count": 21
        }
      ]
    },
    {
      "cell_type": "code",
      "source": [
        "def  matrix_forward_extra(X:ndarray,\n",
        "                          W:ndarray,\n",
        "                          sigma:array_function)->ndarray:\n",
        "\n",
        "                          assert X.shape[1] == W.shape[0]\n",
        "\n",
        "                          # matrix multiplication\n",
        "\n",
        "                          N = np.dot(X, W)\n",
        "                          # function\n",
        "\n",
        "                          S = sigma(N)\n",
        "\n",
        "                          return S"
      ],
      "metadata": {
        "id": "PHY4npBAM5dc"
      },
      "execution_count": 22,
      "outputs": []
    },
    {
      "cell_type": "code",
      "source": [
        "matrix_forward_extra(G,E,square)"
      ],
      "metadata": {
        "colab": {
          "base_uri": "https://localhost:8080/"
        },
        "id": "Dedi4sLtbj4J",
        "outputId": "4350763b-7ae4-477e-b69f-f57d420deda9"
      },
      "execution_count": 23,
      "outputs": [
        {
          "output_type": "execute_result",
          "data": {
            "text/plain": [
              "array([[900]])"
            ]
          },
          "metadata": {},
          "execution_count": 23
        }
      ]
    },
    {
      "cell_type": "code",
      "source": [
        "def matrix_function_backward_1(X:ndarray,\n",
        "                               W:ndarray,\n",
        "                               sigma:array_function)->ndarray:\n",
        "\n",
        "                               # forward\n",
        "                               assert X.shape[1]==W.shape[0]\n",
        "                               N = np.dot(X, W)\n",
        "                               S = sigma(N)\n",
        "\n",
        "                               #backward\n",
        "                               dsdN = deriv(sigma,N)\n",
        "                               dndX = np.transpose(W,(1,0))\n",
        "                               dndW = np.transpose(X,(1,0))\n",
        "\n",
        "                               return np.dot(dsdN, dndX)"
      ],
      "metadata": {
        "id": "-Tf3M7PfbohT"
      },
      "execution_count": 24,
      "outputs": []
    },
    {
      "cell_type": "code",
      "source": [
        "matrix_function_backward_1(G,E,square)"
      ],
      "metadata": {
        "colab": {
          "base_uri": "https://localhost:8080/"
        },
        "id": "VPvQbq3eep6t",
        "outputId": "f0fb9ae8-ed70-4280-bfb5-038cf54b9049"
      },
      "execution_count": 25,
      "outputs": [
        {
          "output_type": "execute_result",
          "data": {
            "text/plain": [
              "array([[ 60., 120., 180., 240.]])"
            ]
          },
          "metadata": {},
          "execution_count": 25
        }
      ]
    },
    {
      "cell_type": "code",
      "source": [
        "def matrix_function_forward_sum(X:ndarray,\n",
        "                                W:ndarray,\n",
        "                                sigma:array_function)->float:\n",
        "\n",
        "                                assert X.shape[1]==W.shape[0]\n",
        "\n",
        "                                N = np.dot(X, W)\n",
        "                                S = sigma(N)\n",
        "                                L = np.sum(S)\n",
        "\n",
        "                                return L"
      ],
      "metadata": {
        "id": "w4OMMtCyevHk"
      },
      "execution_count": 26,
      "outputs": []
    },
    {
      "cell_type": "code",
      "source": [
        "matrix_function_forward_sum(G,E,square)"
      ],
      "metadata": {
        "colab": {
          "base_uri": "https://localhost:8080/"
        },
        "id": "GXeDzm5675sa",
        "outputId": "6419f580-63e1-46a4-aeb4-350655dd8a45"
      },
      "execution_count": 27,
      "outputs": [
        {
          "output_type": "execute_result",
          "data": {
            "text/plain": [
              "900"
            ]
          },
          "metadata": {},
          "execution_count": 27
        }
      ]
    },
    {
      "cell_type": "code",
      "source": [
        "def matrix_function_backward_sum_1(X:ndarray,\n",
        "                                   W:ndarray,\n",
        "                                   sigma:array_function)->ndarray:\n",
        "\n",
        "                                   assert X.shape[1]==W.shape[0]\n",
        "                                   N = np.dot(X, W)\n",
        "                                   S = sigma(N)\n",
        "                                   L = np.sum(S)\n",
        "\n",
        "                                   #backward\n",
        "                                   dldS = np.ones_like(S)\n",
        "                                   dsdN = deriv(sigma,N)\n",
        "                                   dldN = dldS*dsdN\n",
        "                                   dndX = np.transpose(W,(1,0))\n",
        "                                   dLdX = np.dot(dsdN, dndX)\n",
        "\n",
        "\n",
        "                                   return dLdX\n",
        "\n",
        "\n"
      ],
      "metadata": {
        "id": "MmfLSx-17-IQ"
      },
      "execution_count": 28,
      "outputs": []
    },
    {
      "cell_type": "code",
      "source": [
        "matrix_function_backward_sum_1(G,E,square) #both are same dot product and elementary wise operation (dlds is ones)"
      ],
      "metadata": {
        "colab": {
          "base_uri": "https://localhost:8080/"
        },
        "id": "MFMy_awRFzc3",
        "outputId": "e502913f-bcb2-4912-e82d-70894ede4376"
      },
      "execution_count": 29,
      "outputs": [
        {
          "output_type": "execute_result",
          "data": {
            "text/plain": [
              "array([[ 60., 120., 180., 240.]])"
            ]
          },
          "metadata": {},
          "execution_count": 29
        }
      ]
    },
    {
      "cell_type": "code",
      "source": [
        "np.random.seed(190204)\n",
        "X = np.random.randn(3,3)\n",
        "Y = np.random.randn(3,2)\n",
        "print(X)\n",
        "print(Y)\n"
      ],
      "metadata": {
        "colab": {
          "base_uri": "https://localhost:8080/"
        },
        "id": "7gwYd_AxF4wa",
        "outputId": "8f69a180-ff9c-4443-ac7d-72cc809c7f75"
      },
      "execution_count": 30,
      "outputs": [
        {
          "output_type": "stream",
          "name": "stdout",
          "text": [
            "[[-1.57752816 -0.6664228   0.63910406]\n",
            " [-0.56152218  0.73729959 -1.42307821]\n",
            " [-1.44348429 -0.39128029  0.1539322 ]]\n",
            "[[ 0.75510818  0.25562492]\n",
            " [-0.56109271 -0.97504841]\n",
            " [ 0.98098478 -0.95870776]]\n"
          ]
        }
      ]
    },
    {
      "cell_type": "code",
      "source": [
        "print(\"L:\")\n",
        "print(matrix_function_forward_sum(X,Y,sigmoid))"
      ],
      "metadata": {
        "colab": {
          "base_uri": "https://localhost:8080/"
        },
        "id": "SLDr0ZnnH-D2",
        "outputId": "831443c9-69e3-4f63-cf94-d23b926a5191"
      },
      "execution_count": 31,
      "outputs": [
        {
          "output_type": "stream",
          "name": "stdout",
          "text": [
            "L:\n",
            "2.3754951014116954\n"
          ]
        }
      ]
    },
    {
      "cell_type": "code",
      "source": [
        "print(\"dldx\")\n",
        "print(matrix_function_backward_sum_1(X,Y,sigmoid))"
      ],
      "metadata": {
        "colab": {
          "base_uri": "https://localhost:8080/"
        },
        "id": "vCoTa-JcIR5a",
        "outputId": "0150847e-5d7a-4b7d-d2e3-20024ecaa8f7"
      },
      "execution_count": 32,
      "outputs": [
        {
          "output_type": "stream",
          "name": "stdout",
          "text": [
            "dldx\n",
            "[[ 0.2488887  -0.37478057  0.01121962]\n",
            " [ 0.12604152 -0.27807404 -0.13945837]\n",
            " [ 0.22992798 -0.36623443 -0.02252592]]\n"
          ]
        }
      ]
    }
  ]
}